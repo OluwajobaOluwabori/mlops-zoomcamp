{
 "cells": [
  {
   "cell_type": "code",
   "id": "initial_id",
   "metadata": {
    "collapsed": true,
    "ExecuteTime": {
     "end_time": "2025-05-17T15:07:41.734201Z",
     "start_time": "2025-05-17T15:07:41.718928Z"
    }
   },
   "source": [
    "import pandas as pd\n",
    "from sklearn.feature_extraction import DictVectorizer\n",
    "from sklearn.linear_model import LinearRegression\n",
    "from sklearn.metrics import root_mean_squared_error"
   ],
   "outputs": [],
   "execution_count": 22
  },
  {
   "metadata": {},
   "cell_type": "markdown",
   "source": [
    "Q1. Downloading the data\n",
    "We'll use the same NYC taxi dataset, but instead of \"Green Taxi Trip Records\", we'll use \"Yellow Taxi Trip Records\".\n",
    "\n",
    "Download the data for January and February 2023.\n",
    "\n",
    "Read the data for January. How many columns are there?"
   ],
   "id": "c03fb20ff3b25984"
  },
  {
   "metadata": {
    "ExecuteTime": {
     "end_time": "2025-05-17T15:07:47.440523Z",
     "start_time": "2025-05-17T15:07:41.807767Z"
    }
   },
   "cell_type": "code",
   "source": [
    "jan_df = pd.read_parquet('https://d37ci6vzurychx.cloudfront.net/trip-data/yellow_tripdata_2023-01.parquet')\n",
    "feb_df = pd.read_parquet('https://d37ci6vzurychx.cloudfront.net/trip-data/yellow_tripdata_2023-02.parquet')"
   ],
   "id": "644619974f7abe38",
   "outputs": [],
   "execution_count": 23
  },
  {
   "metadata": {},
   "cell_type": "markdown",
   "source": [
    "Q2. Computing duration\n",
    "Now let's compute the duration variable. It should contain the duration of a ride in minutes.\n",
    "\n",
    "What's the standard deviation of the trips duration in January?"
   ],
   "id": "e94e0925cf360028"
  },
  {
   "metadata": {
    "ExecuteTime": {
     "end_time": "2025-05-17T15:07:57.387485Z",
     "start_time": "2025-05-17T15:07:47.499272Z"
    }
   },
   "cell_type": "code",
   "source": [
    "jan_df['duration'] = jan_df.tpep_dropoff_datetime - jan_df.tpep_pickup_datetime\n",
    "jan_df.duration = jan_df.duration.apply(lambda td: td.total_seconds() / 60)\n",
    "\n",
    "print(np.std(jan_df.duration))\n",
    "before = jan_df.shape\n",
    "print(before)\n",
    "jan_df = jan_df[(jan_df.duration >= 1) & (jan_df.duration <= 60)]\n",
    "after = jan_df.shape\n",
    "print(after)\n",
    "print((before[0] - after[0])/before[0] * 100)"
   ],
   "id": "dddb3707d5dac1c9",
   "outputs": [
    {
     "name": "stdout",
     "output_type": "stream",
     "text": [
      "42.5943442974141\n",
      "(3066766, 20)\n",
      "(3009173, 20)\n",
      "1.8779717787402104\n"
     ]
    }
   ],
   "execution_count": 24
  },
  {
   "metadata": {},
   "cell_type": "markdown",
   "source": [
    "Q4. One-hot encoding\n",
    "Let's apply one-hot encoding to the pickup and dropoff location IDs. We'll use only these two features for our model.\n",
    "\n",
    "Turn the dataframe into a list of dictionaries (remember to re-cast the ids to strings - otherwise it will label encode them)\n",
    "Fit a dictionary vectorizer\n",
    "Get a feature matrix from it\n",
    "What's the dimensionality of this matrix (number of columns)?"
   ],
   "id": "53fd09e905f4ba00"
  },
  {
   "metadata": {
    "ExecuteTime": {
     "end_time": "2025-05-17T15:08:23.741202Z",
     "start_time": "2025-05-17T15:07:57.445391Z"
    }
   },
   "cell_type": "code",
   "source": [
    "categorical = ['PULocationID', 'DOLocationID']\n",
    "numerical = ['trip_distance']\n",
    "\n",
    "jan_df[categorical] = jan_df[categorical].astype(str)\n",
    "\n",
    "\n",
    "\n",
    "dv = DictVectorizer()\n",
    "\n",
    "train_dicts = jan_df[categorical + numerical].to_dict(orient='records')\n",
    "print(train_dicts)\n",
    "X_train = dv.fit_transform(train_dicts)\n",
    "print(X_train.ndim)\n"
   ],
   "id": "19026401d9f3da40",
   "outputs": [
    {
     "name": "stderr",
     "output_type": "stream",
     "text": [
      "IOPub data rate exceeded.\n",
      "The Jupyter server will temporarily stop sending output\n",
      "to the client in order to avoid crashing it.\n",
      "To change this limit, set the config variable\n",
      "`--ServerApp.iopub_data_rate_limit`.\n",
      "\n",
      "Current values:\n",
      "ServerApp.iopub_data_rate_limit=1000000.0 (bytes/sec)\n",
      "ServerApp.rate_limit_window=3.0 (secs)\n",
      "\n"
     ]
    },
    {
     "name": "stdout",
     "output_type": "stream",
     "text": [
      "2\n"
     ]
    }
   ],
   "execution_count": 25
  },
  {
   "metadata": {
    "ExecuteTime": {
     "end_time": "2025-05-17T15:08:28.970619Z",
     "start_time": "2025-05-17T15:08:23.787783Z"
    }
   },
   "cell_type": "code",
   "source": "print(train_dicts)",
   "id": "2124530be0811207",
   "outputs": [
    {
     "name": "stderr",
     "output_type": "stream",
     "text": [
      "IOPub data rate exceeded.\n",
      "The Jupyter server will temporarily stop sending output\n",
      "to the client in order to avoid crashing it.\n",
      "To change this limit, set the config variable\n",
      "`--ServerApp.iopub_data_rate_limit`.\n",
      "\n",
      "Current values:\n",
      "ServerApp.iopub_data_rate_limit=1000000.0 (bytes/sec)\n",
      "ServerApp.rate_limit_window=3.0 (secs)\n",
      "\n"
     ]
    }
   ],
   "execution_count": 26
  },
  {
   "metadata": {},
   "cell_type": "markdown",
   "source": [
    "Q5. Training a model\n",
    "Now let's use the feature matrix from the previous step to train a model.\n",
    "\n",
    "Train a plain linear regression model with default parameters, where duration is the response variable\n",
    "Calculate the RMSE of the model on the training data"
   ],
   "id": "ed2a7ed2f682924"
  },
  {
   "metadata": {
    "ExecuteTime": {
     "end_time": "2025-05-17T15:08:35.174272Z",
     "start_time": "2025-05-17T15:08:30.278551Z"
    }
   },
   "cell_type": "code",
   "source": [
    "lr = LinearRegression()\n",
    "y_train = jan_df.duration\n",
    "lr.fit(X_train, y_train)\n",
    "\n",
    "y_pred = lr.predict(X_train)\n",
    "\n",
    "rmse = root_mean_squared_error(y_train, y_pred)\n",
    "print(rmse)"
   ],
   "id": "a41873998215b3d9",
   "outputs": [
    {
     "name": "stdout",
     "output_type": "stream",
     "text": [
      "7.658396474418433\n"
     ]
    }
   ],
   "execution_count": 27
  },
  {
   "metadata": {
    "ExecuteTime": {
     "end_time": "2025-05-17T15:08:35.247955Z",
     "start_time": "2025-05-17T15:08:35.234373Z"
    }
   },
   "cell_type": "code",
   "source": "print(X_train.shape)",
   "id": "5517d53ad90aa1fb",
   "outputs": [
    {
     "name": "stdout",
     "output_type": "stream",
     "text": [
      "(3009173, 516)\n"
     ]
    }
   ],
   "execution_count": 28
  },
  {
   "metadata": {},
   "cell_type": "markdown",
   "source": [
    "Q6. Evaluating the model\n",
    "Now let's apply this model to the validation dataset (February 2023).\n",
    "\n",
    "What's the RMSE on validation?"
   ],
   "id": "51676b6725e0040d"
  },
  {
   "metadata": {
    "ExecuteTime": {
     "end_time": "2025-05-17T15:09:04.277094Z",
     "start_time": "2025-05-17T15:08:35.311637Z"
    }
   },
   "cell_type": "code",
   "source": [
    "feb_df['duration'] = feb_df.tpep_dropoff_datetime - feb_df.tpep_pickup_datetime\n",
    "feb_df.duration = feb_df.duration.apply(lambda td: td.total_seconds() / 60)\n",
    "\n",
    "feb_df = feb_df[(feb_df.duration >= 1) & (feb_df.duration <= 60)]\n",
    "\n",
    "categorical = ['PULocationID', 'DOLocationID']\n",
    "numerical = ['trip_distance']\n",
    "\n",
    "feb_df[categorical] = feb_df[categorical].astype(str)\n",
    "\n",
    "\n",
    "val_dicts = feb_df[categorical + numerical].to_dict(orient='records')\n",
    "X_val = dv.transform(val_dicts)\n",
    "\n",
    "y_pred = lr.predict(X_val)\n",
    "y_val = feb_df.duration\n",
    "rmse = root_mean_squared_error(y_val, y_pred)\n",
    "print(rmse)"
   ],
   "id": "1670968d705a720",
   "outputs": [
    {
     "name": "stdout",
     "output_type": "stream",
     "text": [
      "7.820267421957621\n"
     ]
    }
   ],
   "execution_count": 29
  }
 ],
 "metadata": {
  "kernelspec": {
   "display_name": "Python 3",
   "language": "python",
   "name": "python3"
  },
  "language_info": {
   "codemirror_mode": {
    "name": "ipython",
    "version": 2
   },
   "file_extension": ".py",
   "mimetype": "text/x-python",
   "name": "python",
   "nbconvert_exporter": "python",
   "pygments_lexer": "ipython2",
   "version": "2.7.6"
  }
 },
 "nbformat": 4,
 "nbformat_minor": 5
}
